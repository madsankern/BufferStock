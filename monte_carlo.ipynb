{
 "cells": [
  {
   "cell_type": "markdown",
   "id": "60323a7e-aaba-457a-b468-cb918e4b772b",
   "metadata": {},
   "source": [
    "Implement the monte carlo experiment for the model"
   ]
  },
  {
   "cell_type": "code",
   "execution_count": 1,
   "id": "75cc85db-6ccf-4228-9fcc-a1683b1815f7",
   "metadata": {
    "tags": []
   },
   "outputs": [
    {
     "name": "stdout",
     "output_type": "stream",
     "text": [
      "The autoreload extension is already loaded. To reload it, use:\n",
      "  %reload_ext autoreload\n"
     ]
    }
   ],
   "source": [
    "%load_ext autoreload\n",
    "%autoreload 2\n",
    "\n",
    "import os\n",
    "import numpy as np\n",
    "from numba import njit\n",
    "from types import SimpleNamespace # what does this do?\n",
    "\n",
    "from scipy import optimize\n",
    "from consav import linear_interp\n",
    "import time\n",
    "\n",
    "import matplotlib.pyplot as plt\n",
    "\n",
    "from EconModel import EconModelClass, jit\n",
    "from AFE import AFEClass\n",
    "from FEmodel import FEModelClass\n",
    "\n",
    "%load_ext autoreload\n",
    "%autoreload 2"
   ]
  },
  {
   "cell_type": "code",
   "execution_count": 2,
   "id": "900240b4-5455-402e-b2dd-d0d7a9cf8aa2",
   "metadata": {},
   "outputs": [],
   "source": [
    "DO_SETUP = True"
   ]
  },
  {
   "cell_type": "markdown",
   "id": "85549554-1b47-4cfd-8ff0-803089f5687d",
   "metadata": {},
   "source": [
    "## Define and solve the model"
   ]
  },
  {
   "cell_type": "code",
   "execution_count": 9,
   "id": "ab59e65e-e4b1-4517-9ce8-ce5e0a28045f",
   "metadata": {},
   "outputs": [
    {
     "name": "stdout",
     "output_type": "stream",
     "text": [
      "last period solved in 0.0 secs\n",
      "first period problem solved in 0.0 secs\n",
      "model solved in 11.7 secs\n",
      "model prepared for simulation in 0.1\n",
      "model simulated in 3.9 secs\n"
     ]
    }
   ],
   "source": [
    "model = FEModelClass()\n",
    "model.solve()\n",
    "model.prepare_simulate()\n",
    "model.simulate()"
   ]
  },
  {
   "cell_type": "code",
   "execution_count": 10,
   "id": "9efc939e-d20f-4174-8826-6cee8c75bc98",
   "metadata": {},
   "outputs": [],
   "source": [
    "par = model.par\n",
    "sol = model.sol\n",
    "sim = model.sim"
   ]
  },
  {
   "cell_type": "code",
   "execution_count": null,
   "id": "5362b489-c802-4eb4-8257-362fb2bcca94",
   "metadata": {},
   "outputs": [],
   "source": []
  }
 ],
 "metadata": {
  "kernelspec": {
   "display_name": "Python 3 (ipykernel)",
   "language": "python",
   "name": "python3"
  },
  "language_info": {
   "codemirror_mode": {
    "name": "ipython",
    "version": 3
   },
   "file_extension": ".py",
   "mimetype": "text/x-python",
   "name": "python",
   "nbconvert_exporter": "python",
   "pygments_lexer": "ipython3",
   "version": "3.9.12"
  }
 },
 "nbformat": 4,
 "nbformat_minor": 5
}
